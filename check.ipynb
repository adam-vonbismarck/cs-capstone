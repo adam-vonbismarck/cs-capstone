{
 "cells": [
  {
   "cell_type": "code",
   "metadata": {
    "ExecuteTime": {
     "end_time": "2025-05-04T15:54:03.269181Z",
     "start_time": "2025-05-04T15:54:03.265311Z"
    }
   },
   "source": [
    "import pandas as pd\n",
    "arr = pd.read_csv('change_points_output/watts_per_stroke.csv')"
   ],
   "outputs": [],
   "execution_count": 18
  },
  {
   "cell_type": "code",
   "metadata": {
    "ExecuteTime": {
     "end_time": "2025-05-04T15:54:04.749691Z",
     "start_time": "2025-05-04T15:54:04.745585Z"
    }
   },
   "source": [
    "arr.mean(axis=0)"
   ],
   "outputs": [
    {
     "data": {
      "text/plain": [
       "Rower_1    277.813411\n",
       "Rower_2    282.063337\n",
       "Rower_3    313.016468\n",
       "Rower_4    285.299475\n",
       "Rower_5    252.787928\n",
       "Rower_6    283.932977\n",
       "Rower_7    287.388338\n",
       "Rower_8    281.970452\n",
       "dtype: float64"
      ]
     },
     "execution_count": 19,
     "metadata": {},
     "output_type": "execute_result"
    }
   ],
   "execution_count": 19
  },
  {
   "cell_type": "code",
   "execution_count": null,
   "metadata": {},
   "outputs": [],
   "source": []
  }
 ],
 "metadata": {
  "kernelspec": {
   "display_name": "bmc",
   "language": "python",
   "name": "python3"
  },
  "language_info": {
   "codemirror_mode": {
    "name": "ipython",
    "version": 3
   },
   "file_extension": ".py",
   "mimetype": "text/x-python",
   "name": "python",
   "nbconvert_exporter": "python",
   "pygments_lexer": "ipython3",
   "version": "3.12.5"
  }
 },
 "nbformat": 4,
 "nbformat_minor": 2
}
